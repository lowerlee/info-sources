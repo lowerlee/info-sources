{
 "cells": [
  {
   "cell_type": "code",
   "execution_count": 37,
   "id": "ab1966e6",
   "metadata": {},
   "outputs": [],
   "source": [
    "import requests\n",
    "import json\n",
    "import time\n",
    "from datetime import datetime\n",
    "import os"
   ]
  },
  {
   "cell_type": "code",
   "execution_count": 29,
   "id": "d4bb0783",
   "metadata": {},
   "outputs": [],
   "source": [
    "ALGOLIA_APP_ID = \"EAEFO5N6VV\"\n",
    "ALGOLIA_API_KEY = \"7b5903ca89c4714189217ff4f20b089f\"\n",
    "ALGOLIA_INDEX = \"WP_BY_DATE\"\n",
    "ALGOLIA_URL = f\"https://{ALGOLIA_APP_ID.lower()}-dsn.algolia.net/1/indexes/{ALGOLIA_INDEX}/query\""
   ]
  },
  {
   "cell_type": "code",
   "execution_count": 30,
   "id": "ad2711e2",
   "metadata": {},
   "outputs": [],
   "source": [
    "def search_algolia(filters, page=0):\n",
    "    \"\"\"Search with filters\"\"\"\n",
    "    headers = {\n",
    "        \"X-Algolia-Application-Id\": ALGOLIA_APP_ID,\n",
    "        \"X-Algolia-API-Key\": ALGOLIA_API_KEY,\n",
    "        \"Content-Type\": \"application/json\"\n",
    "    }\n",
    "    \n",
    "    body = {\n",
    "        \"query\": \"\",\n",
    "        \"page\": page,\n",
    "        \"hitsPerPage\": 100,\n",
    "        \"filters\": filters\n",
    "    }\n",
    "    \n",
    "    response = requests.post(ALGOLIA_URL, headers=headers, json=body, timeout=30)\n",
    "    return response.json() if response.status_code == 200 else None"
   ]
  },
  {
   "cell_type": "code",
   "execution_count": 31,
   "id": "6c0453e2",
   "metadata": {},
   "outputs": [],
   "source": [
    "def get_all_blog_posts():\n",
    "    \"\"\"Fetch all blog posts by chunking by year\"\"\"\n",
    "    \n",
    "    all_articles = []\n",
    "    current_year = datetime.now().year\n",
    "    \n",
    "    print(\"Fetching blog posts by year to bypass 1000 limit...\")\n",
    "    print()\n",
    "    \n",
    "    # Go through each year from 2025 back to 2007 (when BPC was founded)\n",
    "    for year in range(current_year, 2006, -1):\n",
    "        \n",
    "        # Convert year to Unix timestamps\n",
    "        year_start = int(datetime(year, 1, 1).timestamp())\n",
    "        year_end = int(datetime(year + 1, 1, 1).timestamp())\n",
    "        \n",
    "        # Combine blog filter + year filter\n",
    "        filters = f'type:\"Blog Post\" AND timestamp >= {year_start} AND timestamp < {year_end}'\n",
    "        \n",
    "        # Check count for this year\n",
    "        test_result = search_algolia(filters, page=0)\n",
    "        if not test_result:\n",
    "            continue\n",
    "        \n",
    "        year_count = test_result.get('nbHits', 0)\n",
    "        \n",
    "        if year_count == 0:\n",
    "            continue\n",
    "        \n",
    "        print(f\"Year {year}: {year_count} blog posts\", end=\" \")\n",
    "        \n",
    "        # Fetch all for this year\n",
    "        page = 0\n",
    "        year_articles = []\n",
    "        \n",
    "        while True:\n",
    "            result = search_algolia(filters, page=page)\n",
    "            \n",
    "            if not result or not result.get('hits'):\n",
    "                break\n",
    "            \n",
    "            hits = result['hits']\n",
    "            year_articles.extend(hits)\n",
    "            \n",
    "            if len(year_articles) >= year_count:\n",
    "                break\n",
    "            \n",
    "            page += 1\n",
    "            time.sleep(0.2)\n",
    "        \n",
    "        print(f\"✓ Got {len(year_articles)}\")\n",
    "        all_articles.extend(year_articles)\n",
    "    \n",
    "    return all_articles"
   ]
  },
  {
   "cell_type": "code",
   "execution_count": null,
   "id": "d7b14bdf",
   "metadata": {},
   "outputs": [
    {
     "name": "stdout",
     "output_type": "stream",
     "text": [
      "Fetching blog posts by year to bypass 1000 limit...\n",
      "\n",
      "Year 2025: 93 blog posts ✓ Got 93\n",
      "Year 2024: 137 blog posts ✓ Got 137\n",
      "Year 2023: 227 blog posts ✓ Got 227\n",
      "Year 2022: 240 blog posts ✓ Got 240\n",
      "Year 2021: 248 blog posts ✓ Got 248\n",
      "Year 2020: 205 blog posts ✓ Got 205\n",
      "Year 2017: 1 blog posts ✓ Got 1\n"
     ]
    },
    {
     "data": {
      "text/plain": [
       "{'title': 'Fix Our Forests Act: A Bipartisan Breakthrough for America’s Forests',\n",
       " 'date': 'Oct 22, 2025',\n",
       " 'permalink': 'https://bipartisanpolicy.org/blog/fix-our-forests-act-a-bipartisan-breakthrough-for-americas-forests/',\n",
       " 'type': 'Blog Post',\n",
       " 'tags': ['Energy Policy'],\n",
       " 'policy_areas': ['Energy'],\n",
       " 'related_people': ['Sean Babington', 'Mariam Al-Shamma'],\n",
       " 'content': 'On October 21, 2025, the U.S. Senate Committee on Agriculture, Nutrition, and Forestry voted 18-5 to advance the Fix Our Forests Act (FOFA). This strong bipartisan vote on comprehensive forestry legislation—shepherded by Agriculture Committee Chairman John Boozman (R-AK) and the committee’s ranking member, Senator Amy Klobuchar (D-MN)—marks yet another milestone in policymakers’ renewed focus on consensus-driven reforms to govern America’s forested lands. FOFA, a version of which has already passed the House with support from both parties, provides a host of new authorities and tools for the U.S. Forest Service (USFS) and its partners to manage, restore, and enhance our nation’s forested lands. The Bipartisan Policy Center’s Farm and Forest Carbon Solutions Task Force provided Congress a variety of forest policy recommendations in its 2021 report. The sponsors of the Senate’s FOFA legislation—Sens. John Curtis (R-UT), Tim Sheehy (R-MT), John Hickenlooper (D-CO), and Alex Padilla (D-CA)—incorporated many of the task force’s recommendations in the committee-passed version of FOFA, including: A coordinated approach to reforestation research, nursery capacity, and collection of tree seeds, allowing the USFS and partners to accelerate reforestation efforts in the wake of wildfires and other disturbances. An all-of-government approach to mitigate the threat of uncharacteristic wildfires by equipping USFS’s land managers with new tools, including streamlined permitting for science-based forest health projects and reforms to dispute resolution over forest management projects. An increased focus on wildfire mitigation and forest health projects across federal, state, or private ownership boundaries on forested lands. A renewed emphasis on USFS research and the promise of innovative forest products, which can help drive new markets for low diameter (and previously low-value) forest materials—the exact types of trees that need to be removed from overstocked forests across the country to reduce wildfire risk. Committee passage of FOFA comes on the heels of several other recent farm and forestry legislation milestones. Since the start of the 115th Congress in 2017, lawmakers have passed—and presidents have signed into law—no fewer than five major pieces of forestry reform legislation, arguably the most consequential period in forestry-related legislating since the USFS was established 120 years ago. Although not all these bills were passed on a bipartisan basis, it is notable that Congresses controlled by both parties have passed important forestry legislation including: Title 8 (Forestry Title) of the Agricultural Improvement Act of 2018 (2018 Farm Bill), which enshrined a host of notable reforms to the management of National Forest System Land (NFS) lands including nationwide expansion of the revenue sharing provisions governing the “Good Neighbor” program; a new categorical exclusion to the National Environmental Policy Act (NEPA) to improve wildlife habitat conditions on NFS lands; new leasing authority for surface development on Forest Service administrative sites; and new pilot authority for tribes to perform many roles managing NFS lands that were previously only available to the USFS. Division O of the Consolidated Appropriations Act of 2018, which provided the Forest Service unique new budget flexibility to allow for certain wildfire suppression efforts to be funded with “emergency”&hellip;'}"
      ]
     },
     "execution_count": 32,
     "metadata": {},
     "output_type": "execute_result"
    }
   ],
   "source": [
    "articles = get_all_blog_posts()\n",
    "\n",
    "keys = ['title', 'date', 'permalink', 'type', 'tags', 'policy_areas', 'related_people', 'content']\n",
    "\n",
    "filtered_articles = [\n",
    "    {key: article[key] for key in keys if key in article}\n",
    "    for article in articles\n",
    "]"
   ]
  },
  {
   "cell_type": "code",
   "execution_count": 41,
   "id": "f057506d",
   "metadata": {},
   "outputs": [],
   "source": [
    "with open('data/bpc_blogs.json', 'w', encoding='utf-8') as f:\n",
    "   json.dump(filtered_articles, f, indent=2, ensure_ascii=False)"
   ]
  }
 ],
 "metadata": {
  "kernelspec": {
   "display_name": "Profit Status Python",
   "language": "python",
   "name": "profit-status-kernel"
  },
  "language_info": {
   "codemirror_mode": {
    "name": "ipython",
    "version": 3
   },
   "file_extension": ".py",
   "mimetype": "text/x-python",
   "name": "python",
   "nbconvert_exporter": "python",
   "pygments_lexer": "ipython3",
   "version": "3.11.14"
  }
 },
 "nbformat": 4,
 "nbformat_minor": 5
}
