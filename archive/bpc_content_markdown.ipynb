{
 "cells": [
  {
   "cell_type": "code",
   "execution_count": null,
   "id": "73b97a8a",
   "metadata": {},
   "outputs": [],
   "source": [
    "from bs4 import BeautifulSoup\n",
    "from readability import Document\n",
    "import html2text"
   ]
  },
  {
   "cell_type": "code",
   "execution_count": null,
   "id": "17d1ecc5",
   "metadata": {},
   "outputs": [],
   "source": [
    "def get_full_article(html_string):\n",
    "    \"\"\"\n",
    "    Extract full article content handling heterogeneous HTML structures\n",
    "    \"\"\"\n",
    "    # Step 1: Use readability to identify main content\n",
    "    doc = Document(html_string)\n",
    "    main_content_html = doc.summary()\n",
    "    \n",
    "    # Step 2: Parse with BeautifulSoup for cleanup\n",
    "    soup = BeautifulSoup(main_content_html, 'html.parser')\n",
    "    \n",
    "    # Remove unwanted elements\n",
    "    for element in soup.find_all(['script', 'style', 'nav', 'footer']):\n",
    "        element.decompose()\n",
    "    \n",
    "    # Step 3: Convert to markdown or text\n",
    "    converter = html2text.HTML2Text()\n",
    "    converter.ignore_links = False\n",
    "    converter.body_width = 0\n",
    "    \n",
    "    return converter.handle(str(soup))"
   ]
  },
  {
   "cell_type": "code",
   "execution_count": null,
   "id": "456445d2",
   "metadata": {},
   "outputs": [],
   "source": []
  }
 ],
 "metadata": {
  "kernelspec": {
   "display_name": "Profit Status Python",
   "language": "python",
   "name": "profit-status-kernel"
  },
  "language_info": {
   "name": "python",
   "version": "3.11.14"
  }
 },
 "nbformat": 4,
 "nbformat_minor": 5
}
