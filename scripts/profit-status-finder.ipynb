{
 "cells": [
  {
   "cell_type": "code",
   "execution_count": 3,
   "id": "410d375a",
   "metadata": {},
   "outputs": [],
   "source": [
    "import numpy as np\n",
    "import pandas as pd"
   ]
  },
  {
   "cell_type": "code",
   "execution_count": null,
   "id": "a241775a",
   "metadata": {},
   "outputs": [],
   "source": [
    "# Read in a CSV file into a DataFrame\n",
    "df = pd.read_csv('data/info-sources - main.csv')"
   ]
  }
 ],
 "metadata": {
  "kernelspec": {
   "display_name": "Profit Status Python",
   "language": "python",
   "name": "profit-status-kernel"
  },
  "language_info": {
   "codemirror_mode": {
    "name": "ipython",
    "version": 3
   },
   "file_extension": ".py",
   "mimetype": "text/x-python",
   "name": "python",
   "nbconvert_exporter": "python",
   "pygments_lexer": "ipython3",
   "version": "3.11.14"
  }
 },
 "nbformat": 4,
 "nbformat_minor": 5
}
